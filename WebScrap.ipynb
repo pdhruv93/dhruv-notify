{
 "cells": [
  {
   "cell_type": "code",
   "execution_count": 1,
   "metadata": {},
   "outputs": [],
   "source": [
    "from selenium import webdriver\n",
    "import time\n",
    "import threading\n",
    "from flask import Flask, request, jsonify, make_response"
   ]
  },
  {
   "cell_type": "code",
   "execution_count": 2,
   "metadata": {},
   "outputs": [],
   "source": [
    "fburl = 'https://www.facebook.com/login'\n",
    "fbusername = 'greenpandey'\n",
    "fbpassword = 'starcamp'\n",
    "\n",
    "fbNotifications=0\n",
    "messengerNotifications=0\n",
    "\n",
    "fbDriver = webdriver.Chrome(\"C:\\\\Users\\\\987040\\\\Desktop\\\\chromedriver\")\n",
    "fbDriver.get(fburl)\n",
    "\n",
    "def facebookCountManager():\n",
    "    global fbNotifications\n",
    "    global messengerNotifications\n",
    "    \n",
    "    while True:\n",
    "        try:\n",
    "            fbDriver.find_element_by_id('loginbutton')\n",
    "\n",
    "            #its not login. so perform login\n",
    "            print(\"Performing Login to FB\")\n",
    "            fbDriver.find_element_by_id('email').send_keys(fbusername)\n",
    "            fbDriver.find_element_by_id('pass').send_keys(fbpassword)\n",
    "            time.sleep(2)\n",
    "            fbDriver.find_element_by_id('loginbutton').click()\n",
    "            time.sleep(2)\n",
    "        except:\n",
    "            #its already login. refresh and get count\n",
    "            fbDriver.refresh()\n",
    "            time.sleep(6)\n",
    "\n",
    "            fbNotifications=fbDriver.find_element_by_id('notificationsCountValue').text\n",
    "            messengerNotifications=fbDriver.find_element_by_id('mercurymessagesCountValue').text\n",
    "\n",
    "            if not fbNotifications:\n",
    "                fbNotifications=0\n",
    "\n",
    "            if not messengerNotifications:\n",
    "                messengerNotifications=0\n",
    "\n",
    "            #print(\"{}:{}\".format(fbNotifications,messengerNotifications))\n",
    "            time.sleep(6)"
   ]
  },
  {
   "cell_type": "code",
   "execution_count": 3,
   "metadata": {},
   "outputs": [],
   "source": [
    "skypeurl = 'https://web.skype.com/'\n",
    "skypeusername = 'dhruv.pandey5'\n",
    "skypepassword = 'dhruv.pandey5'\n",
    "\n",
    "skypeNotifications=0\n",
    "\n",
    "skypeDriver = webdriver.Chrome(\"C:\\\\Users\\\\987040\\\\Desktop\\\\chromedriver\")\n",
    "skypeDriver.get(skypeurl)\n",
    "\n",
    "def skypeCountManager():\n",
    "    global skypeNotifications\n",
    "    while True:\n",
    "        try:\n",
    "            skypeDriver.find_element_by_id('idSIButton9')\n",
    "\n",
    "            #its not login. so perform login\n",
    "            print(\"Performing Login to Skype\")\n",
    "            skypeDriver.find_element_by_id('i0116').send_keys(skypeusername)\n",
    "            time.sleep(2)\n",
    "            skypeDriver.find_element_by_id('idSIButton9').click()\n",
    "            time.sleep(2)\n",
    "            skypeDriver.find_element_by_id('i0118').send_keys(skypepassword)  \n",
    "            time.sleep(2)\n",
    "            skypeDriver.find_element_by_id('idSIButton9').click()\n",
    "            time.sleep(6)\n",
    "        except:\n",
    "             #its already login. refresh and get count\n",
    "            skypeDriver.refresh()\n",
    "            time.sleep(6)\n",
    "\n",
    "            try:\n",
    "                temp1=skypeDriver.title.split(')')[0]\n",
    "                temp2=temp1.split('(')[1]\n",
    "\n",
    "                skypeNotifications=temp2\n",
    "            except:\n",
    "                skypeNotifications=0\n",
    "\n",
    "            if not skypeNotifications:\n",
    "                skypeNotifications=0\n",
    "\n",
    "            #print(\"{}:\".format(skypeNotifications))\n",
    "            time.sleep(6)"
   ]
  },
  {
   "cell_type": "code",
   "execution_count": 4,
   "metadata": {},
   "outputs": [],
   "source": [
    "whatsappurl = 'https://web.whatsapp.com/'\n",
    "\n",
    "whatsappNotifications=0\n",
    "\n",
    "whatsappDriver = webdriver.Chrome(\"C:\\\\Users\\\\987040\\\\Desktop\\\\chromedriver\")\n",
    "whatsappDriver.get(whatsappurl)\n",
    "\n",
    "def whatsappCountManager():\n",
    "    global whatsappNotifications\n",
    "    \n",
    "    while True:\n",
    "        try:\n",
    "            whatsappDriver.find_element_by_name('rememberMe')\n",
    "        \n",
    "            #its not login. so perform login\n",
    "            print(\"Scan QR code to login to Whatsapp\")\n",
    "            time.sleep(6)\n",
    "        except:\n",
    "            #its already login. refresh and get count\n",
    "            whatsappDriver.refresh()\n",
    "            time.sleep(6)\n",
    "\n",
    "            try:\n",
    "                temp1=whatsappDriver.title.split(')')[0]\n",
    "                temp2=temp1.split('(')[1]\n",
    "\n",
    "                whatsappNotifications=temp2\n",
    "                \n",
    "            except:\n",
    "                whatsappNotifications=0\n",
    "\n",
    "                if not whatsappNotifications:\n",
    "                    whatsappNotifications=0\n",
    "            #print(\"{}:\".format(whatsappNotifications))\n",
    "            time.sleep(6)"
   ]
  },
  {
   "cell_type": "code",
   "execution_count": null,
   "metadata": {},
   "outputs": [],
   "source": [
    "def getNotificationCounts():\n",
    "    print(\"Facebook Count: {},{}\".format(fbNotifications,messengerNotifications))\n",
    "    print(\"Skype Count: {}\".format(skypeNotifications))\n",
    "    print(\"Whatsapp Count: {}\".format(whatsappNotifications))"
   ]
  },
  {
   "cell_type": "code",
   "execution_count": null,
   "metadata": {},
   "outputs": [],
   "source": [
    "fbThread = threading.Thread(target=facebookCountManager)\n",
    "skypeThread = threading.Thread(target=skypeCountManager)\n",
    "whatsappThread = threading.Thread(target=whatsappCountManager)\n",
    "\n",
    "fbThread.start()\n",
    "skypeThread.start()\n",
    "whatsappThread.start()"
   ]
  },
  {
   "cell_type": "code",
   "execution_count": null,
   "metadata": {},
   "outputs": [
    {
     "name": "stdout",
     "output_type": "stream",
     "text": [
      "Performing Login to Skype\n",
      "Performing Login to FB\n",
      "Scan QR code to login to Whatsapp\n",
      " * Serving Flask app \"__main__\" (lazy loading)\n",
      " * Environment: production\n",
      "   WARNING: This is a development server. Do not use it in a production deployment.\n",
      "   Use a production WSGI server instead.\n",
      " * Debug mode: off\n"
     ]
    },
    {
     "name": "stderr",
     "output_type": "stream",
     "text": [
      " * Running on http://127.0.0.1:5000/ (Press CTRL+C to quit)\n"
     ]
    },
    {
     "name": "stdout",
     "output_type": "stream",
     "text": [
      "Scan QR code to login to Whatsapp\n"
     ]
    },
    {
     "name": "stderr",
     "output_type": "stream",
     "text": [
      "127.0.0.1 - - [23/Oct/2019 15:18:13] \"\u001b[37mGET /getcounts/ HTTP/1.1\u001b[0m\" 200 -\n",
      "127.0.0.1 - - [23/Oct/2019 15:18:29] \"\u001b[37mGET /getcounts/ HTTP/1.1\u001b[0m\" 200 -\n",
      "127.0.0.1 - - [23/Oct/2019 15:18:35] \"\u001b[37mGET /getcounts/ HTTP/1.1\u001b[0m\" 200 -\n"
     ]
    }
   ],
   "source": [
    "app=Flask(__name__)\n",
    "\n",
    "@app.route('/getcounts/', methods=['GET'])\n",
    "def respond():\n",
    "    response_body = {\n",
    "            \"fb\": fbNotifications,\n",
    "            \"messenger\": messengerNotifications,\n",
    "            \"skype\" : skypeNotifications,\n",
    "            \"whatsapp\" : whatsappNotifications\n",
    "        }\n",
    "\n",
    "    res = make_response(jsonify(response_body), 200)\n",
    "    return res\n",
    "\n",
    "\n",
    "@app.route('/')\n",
    "def index():\n",
    "    getNotificationCounts()\n",
    "    return '<h1>Notification App</h1>'\n",
    "\n",
    "if __name__ == '__main__':\n",
    "    # Threaded option to enable multiple instances for multiple user access support\n",
    "    app.run(threaded=True, port=5000)"
   ]
  }
 ],
 "metadata": {
  "kernelspec": {
   "display_name": "Python 3",
   "language": "python",
   "name": "python3"
  },
  "language_info": {
   "codemirror_mode": {
    "name": "ipython",
    "version": 3
   },
   "file_extension": ".py",
   "mimetype": "text/x-python",
   "name": "python",
   "nbconvert_exporter": "python",
   "pygments_lexer": "ipython3",
   "version": "3.7.3"
  }
 },
 "nbformat": 4,
 "nbformat_minor": 2
}
